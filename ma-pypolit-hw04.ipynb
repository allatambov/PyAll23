{
 "cells": [
  {
   "cell_type": "markdown",
   "metadata": {},
   "source": [
    "# Программирование для всех <br>(основы работы с Python)\n",
    "\n",
    "*Автор задач: Тамбовцева А.А.*\n",
    "\n",
    "## Домашнее задание №4\n",
    "\n",
    "**За разные задачи можно получить разное число баллов. Если не указано обратное, задача весит 1 балл. Чтобы получить оценку 10 за это задание, нужно набрать 10 баллов, то есть верно выполнить все задания.** \n",
    "\n",
    "Почти все задачи снабжены тестами – ячейками со строками, содержащими конструкцию `assert`. Алгоритм работы с тестами такой: пишете код с решением, запускаете его, затем запускаете ячейку с тестами. Если после запуска ячейки с тестами ничего не произошло, ваш код с решением верный, если на экране появилось сообщение об ошибке, код неверный. \n",
    "\n",
    "Во всех заданиях необходимо называть объекты так, как указано в условии, иначе решение будет считаться ошибочным (например, для Python вообще и для `assert` в частности объекты `n` и `N` – не одно и то же)."
   ]
  },
  {
   "cell_type": "markdown",
   "metadata": {},
   "source": [
    "### Формат сдачи\n",
    "\n",
    "Для сдачи домашнего задания необходимо скачать текущий ipynb-файл, вписать в него свои решения, сохранить изменения и загрузить обновленный файл на Dropbox по предложенной на странице курса ссылке. Иметь аккаунт Dropbox для этого не требуется, достаточно пройти по ссылке и выбрать файл на компьютере.\n",
    "\n",
    "Получить ipynb-файл можно, выбрав в Jupyter пункт меню *File → Download as... → Notebook (.ipynb)*."
   ]
  },
  {
   "cell_type": "markdown",
   "metadata": {},
   "source": [
    "### Данные\n",
    "\n",
    "**Файл для работы**\n",
    "\n",
    "В файле `polit.csv` хранятся некоторые данные, используемые в [исследовании](http://jmcguire.faculty.wesleyan.edu/welcome/data/#20LActries) James W.McGuire, “Authoritarianism in the Middle East”.\n",
    "\n",
    "**Показатели:**\n",
    "\n",
    "* `ctry` – страна;\n",
    "* `fh09` – индекс *Freedom House* за 2009 год (от 1 до 7, большие значения соответствуют меньшему уровню гражданских свобод);\n",
    "* `polity09` – индекс *Polity2* за 2009 год (от -10 до 10, большие значения соответствуют большему уровню демократии);\n",
    "* `gini` – индекс Джини за 2000-2010 годы (индекс имущественного неравенства);\n",
    "* `fparl08` – доля женщин в парламенте в 2008 году (в процентах);\n",
    "* `mena` – регион *Middle East and North Africa (1 – да, 0 – нет)*;\n",
    "* `lati` – регион *Latin America*;\n",
    "* `cari` – регион *Caribbean, former British, French, Dutch colony*;\n",
    "* `east` – регион *East Asia*;\n",
    "* `sovi` – регион *Former Soviet Bloc*;\n",
    "* `afri` – регион *Africa*;\n",
    "* `corr0509` – индекс *Control of Corruption*, среднее за 2005-2009 годы."
   ]
  },
  {
   "cell_type": "markdown",
   "metadata": {},
   "source": [
    "### Задание 1\n",
    "\n",
    "Загрузите таблицу из файла `polit.csv` и сохраните датафрейм в переменную `polit`. Если в датафрейме есть строки с пропущенными значениями, удалите их. Сохраните изменения в `polit`.\n",
    "\n",
    "**Подсказка:** удаление строк с пропущенными значениями – метод `.dropna()`."
   ]
  },
  {
   "cell_type": "code",
   "execution_count": null,
   "metadata": {
    "deletable": false,
    "nbgrader": {
     "checksum": "21b1db37a5b4813694f8a9c13e516225",
     "grade": false,
     "grade_id": "cell-bd09069837828d5c",
     "locked": false,
     "schema_version": 3,
     "solution": true,
     "task": false
    }
   },
   "outputs": [],
   "source": [
    "# YOUR CODE HERE"
   ]
  },
  {
   "cell_type": "code",
   "execution_count": null,
   "metadata": {
    "deletable": false,
    "nbgrader": {
     "checksum": "267ba36cce9a0df14e19e5ff5f84c77b",
     "grade": true,
     "grade_id": "cell-dc3ca2ea24ead192",
     "locked": true,
     "points": 1,
     "schema_version": 3,
     "solution": false,
     "task": false
    }
   },
   "outputs": [],
   "source": [
    "assert polit.shape == (135, 13), \"Проверьте, сохранились ли изменения в polit\""
   ]
  },
  {
   "cell_type": "markdown",
   "metadata": {},
   "source": [
    "### Задание 2\n",
    "\n",
    "Выберите в датафрейме строки, которые соответствуют странам со значениями индекса *Freedom House* (`fh09`) выше 5. Сохраните их в датафрейм `not_free`."
   ]
  },
  {
   "cell_type": "code",
   "execution_count": null,
   "metadata": {
    "deletable": false,
    "nbgrader": {
     "checksum": "78661c282cb8615e65edd5dc7ec1c1c5",
     "grade": false,
     "grade_id": "cell-ef43df4f0d5c0bd2",
     "locked": false,
     "schema_version": 3,
     "solution": true,
     "task": false
    }
   },
   "outputs": [],
   "source": [
    "# YOUR CODE HERE"
   ]
  },
  {
   "cell_type": "code",
   "execution_count": null,
   "metadata": {
    "deletable": false,
    "nbgrader": {
     "checksum": "e9ae06ebd9c1158b08b20447bcceb1d7",
     "grade": true,
     "grade_id": "cell-515d575403b98e13",
     "locked": true,
     "points": 1,
     "schema_version": 3,
     "solution": false,
     "task": false
    }
   },
   "outputs": [],
   "source": [
    "assert not_free.shape == (30, 13), \"Неверное число строк или столбцов\"\n",
    "assert not_free.iloc[3, 9] == 0, \"Неверный датафрейм\"\n",
    "assert not_free.iloc[19, 1] == 'Mauritania', \"Неверный датафрейм\""
   ]
  },
  {
   "cell_type": "markdown",
   "metadata": {},
   "source": [
    "### Задание 3\n",
    "\n",
    "Выберите в датафрейме строки, которые соответствуют странам Африки (`afri`) с процентом женщин в парламенте (`fparl08`) выше 30%. Сохраните их в датафрейм `af_w`."
   ]
  },
  {
   "cell_type": "code",
   "execution_count": null,
   "metadata": {
    "deletable": false,
    "nbgrader": {
     "checksum": "6b00c7ce97910a581fd4fabdf7256f0e",
     "grade": false,
     "grade_id": "cell-821b3c361b5f0e7d",
     "locked": false,
     "schema_version": 3,
     "solution": true,
     "task": false
    }
   },
   "outputs": [],
   "source": [
    "# YOUR CODE HERE"
   ]
  },
  {
   "cell_type": "code",
   "execution_count": null,
   "metadata": {
    "deletable": false,
    "nbgrader": {
     "checksum": "7d59a6b212859088917a4b3b3b5fd3be",
     "grade": true,
     "grade_id": "cell-4da7712178596899",
     "locked": true,
     "points": 1,
     "schema_version": 3,
     "solution": false,
     "task": false
    }
   },
   "outputs": [],
   "source": [
    "assert af_w.shape == (6, 13), \"Неверное число строк или столбцов\"\n",
    "assert af_w.iloc[3, 5] == 33.92, \"Неверный датафрейм\"\n",
    "assert af_w.iloc[5, 7] == 0, \"Неверный датафрейм\""
   ]
  },
  {
   "cell_type": "markdown",
   "metadata": {},
   "source": [
    "### Задание 4\n",
    "\n",
    "Выберите в датафрейме строки, которые соответствуют странам Африки или Латинской Америки (`afri` и `lati`) со значением индекса *Polity2* (`polity09`) больше или равным 8. Сохраните их в датафрейм `la_dem`."
   ]
  },
  {
   "cell_type": "code",
   "execution_count": null,
   "metadata": {
    "deletable": false,
    "nbgrader": {
     "checksum": "62aff39c2687b770387b3441532f67db",
     "grade": false,
     "grade_id": "cell-505bba8952d6425e",
     "locked": false,
     "schema_version": 3,
     "solution": true,
     "task": false
    }
   },
   "outputs": [],
   "source": [
    "# YOUR CODE HERE"
   ]
  },
  {
   "cell_type": "code",
   "execution_count": null,
   "metadata": {
    "deletable": false,
    "nbgrader": {
     "checksum": "97dce8d4d8971df2418374436ea0f06d",
     "grade": true,
     "grade_id": "cell-451bfc8d30610712",
     "locked": true,
     "points": 1,
     "schema_version": 3,
     "solution": false,
     "task": false
    }
   },
   "outputs": [],
   "source": [
    "assert la_dem.shape == (18, 13), \"Неверное число строк или столбцов\"\n",
    "assert la_dem.iloc[3, 5] == 12.66, \"Неверный датафрейм\"\n",
    "assert la_dem.iloc[5, 7] == 1, \"Неверный датафрейм\""
   ]
  },
  {
   "cell_type": "markdown",
   "metadata": {},
   "source": [
    "### Задание 5\n",
    "\n",
    "Добавьте в датафрейм `polit` столбец `corr_round`, в котором будут храниться округленные до 2 знака после запятой значения индекса *Control of Corruption* (`corr0509`)."
   ]
  },
  {
   "cell_type": "code",
   "execution_count": null,
   "metadata": {
    "deletable": false,
    "nbgrader": {
     "checksum": "d0072a0e2dc47330d385908822233031",
     "grade": false,
     "grade_id": "cell-b773c30a03303cd1",
     "locked": false,
     "schema_version": 3,
     "solution": true,
     "task": false
    }
   },
   "outputs": [],
   "source": [
    "# YOUR CODE HERE"
   ]
  },
  {
   "cell_type": "code",
   "execution_count": null,
   "metadata": {
    "deletable": false,
    "nbgrader": {
     "checksum": "520d6e03d7dee2572cefad273ceade03",
     "grade": true,
     "grade_id": "cell-8c2782bc419be172",
     "locked": true,
     "points": 1,
     "schema_version": 3,
     "solution": false,
     "task": false
    }
   },
   "outputs": [],
   "source": [
    "assert round(polit[\"corr_round\"].sum()) == -14.0, \"Ошибка в столбце corr_round\"\n",
    "assert polit[\"corr_round\"].max() == 2.38, \"Ошибка в столбце corr_round\""
   ]
  },
  {
   "cell_type": "markdown",
   "metadata": {},
   "source": [
    "### Задание 6 (2 балла)\n",
    "\n",
    "Добавьте в датафрейм `polit` столбец `fh_status`, в котором будут храниться типы стран в зависимости от значения индекса *Freedom House* (значения *free*, *partly free*, *not free*). Соответствие значений `fh09` с типами стран см. [здесь](https://freedomhouse.org/sites/default/files/2020-02/Methodology_FIW_2016.pdf) (*Table 3* на последней странице)."
   ]
  },
  {
   "cell_type": "code",
   "execution_count": null,
   "metadata": {
    "deletable": false,
    "nbgrader": {
     "checksum": "071a8e7d18eb1463c4a9c1168c337576",
     "grade": false,
     "grade_id": "cell-6d3e86f6514ffe7c",
     "locked": false,
     "schema_version": 3,
     "solution": true,
     "task": false
    }
   },
   "outputs": [],
   "source": [
    "# YOUR CODE HERE"
   ]
  },
  {
   "cell_type": "code",
   "execution_count": null,
   "metadata": {
    "deletable": false,
    "nbgrader": {
     "checksum": "d274de8e8546aea839df2f850f217e87",
     "grade": true,
     "grade_id": "cell-bf606937b0f2cb58",
     "locked": true,
     "points": 2,
     "schema_version": 3,
     "solution": false,
     "task": false
    }
   },
   "outputs": [],
   "source": [
    "assert polit[\"fh_status\"].value_counts().values[0] == 57, \"Неверные значения в столбце\"\n",
    "assert polit[\"fh_status\"].value_counts().values[1] == 48, \"Неверные значения в столбце\"\n",
    "assert polit[\"fh_status\"].value_counts().values[2] == 30, \"Неверные значения в столбце\"\n",
    "assert polit[\"fh_status\"].values[3] == 'free', \"Неверные значения в столбце\"\n",
    "assert polit[\"fh_status\"].values[4] == 'partly free', \"Неверные значения в столбце\"\n",
    "assert polit[\"fh_status\"].values[134] == 'not free', \"Неверные значения в столбце\""
   ]
  },
  {
   "cell_type": "markdown",
   "metadata": {},
   "source": [
    "### Задание 7\n",
    "\n",
    "*(Формат решения может быть разный, задача автоматически не тестируется, баллы будут добавлены при ручной проверке)*\n",
    "\n",
    "Сгруппируйте строки в таблице в соответствии со значениями столбца `fh_status`, полученного в предыдущей части и выведите минимальное, среднее и максимальное значение показателя `gini` (индекс Джини) по каждой группе."
   ]
  },
  {
   "cell_type": "code",
   "execution_count": null,
   "metadata": {},
   "outputs": [],
   "source": [
    "# YOUR CODE HERE"
   ]
  },
  {
   "cell_type": "markdown",
   "metadata": {},
   "source": [
    "### Задание 8 (2 балла)\n",
    "\n",
    "*(Формат решения может быть разный, задача автоматически не тестируется, баллы будут добавлены при ручной проверке)*\n",
    "\n",
    "Сгруппируйте строки в таблице в соответствии со значениями столбца `fh_status` и запишите строки, относящиеся к разным группам, в отдельные csv-файлы."
   ]
  },
  {
   "cell_type": "code",
   "execution_count": null,
   "metadata": {},
   "outputs": [],
   "source": [
    "# YOUR CODE HERE"
   ]
  }
 ],
 "metadata": {
  "kernelspec": {
   "display_name": "Python 3",
   "language": "python",
   "name": "python3"
  },
  "language_info": {
   "codemirror_mode": {
    "name": "ipython",
    "version": 3
   },
   "file_extension": ".py",
   "mimetype": "text/x-python",
   "name": "python",
   "nbconvert_exporter": "python",
   "pygments_lexer": "ipython3",
   "version": "3.7.4"
  }
 },
 "nbformat": 4,
 "nbformat_minor": 2
}
