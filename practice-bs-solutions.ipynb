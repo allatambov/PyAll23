{
 "cells": [
  {
   "cell_type": "markdown",
   "metadata": {},
   "source": [
    "# Программирование для всех (основы работы с Python) \n",
    "\n",
    "*Алла Тамбовцева*\n",
    "\n",
    "## Практикум по парсингу с `BeautifulSoup`"
   ]
  },
  {
   "cell_type": "markdown",
   "metadata": {},
   "source": [
    "Мы уже немного познакомились со структурой html-страниц и поиском информации по тэгам, теперь попробуем выгрузить информацию из более интересной страницы, а точнее, с сайта [nplus1.ru](https://nplus1.ru/). Наша задача – выгрузить недавние новости в датафрейм `pandas`, чтобы потом сохранить все в файл Excel.\n",
    "\n",
    "Для работы нам снова понадобится модуль `requests` для отправки запросов, для «подключения» к странице и получения ее содержимого в виде строки, и функция `BeautifulSoup` из библиотеки `bs4` для удобного поиска по полученной строке:"
   ]
  },
  {
   "cell_type": "code",
   "execution_count": 1,
   "metadata": {},
   "outputs": [],
   "source": [
    "import requests\n",
    "from bs4 import BeautifulSoup"
   ]
  },
  {
   "cell_type": "markdown",
   "metadata": {},
   "source": [
    "Сохраним ссылку на главную страницу в переменную `main` и отправим запрос к ней с помощью функции `get()` из `requests`:"
   ]
  },
  {
   "cell_type": "code",
   "execution_count": 2,
   "metadata": {},
   "outputs": [],
   "source": [
    "main = \"https://nplus1.ru/\"\n",
    "page = requests.get(main)"
   ]
  },
  {
   "cell_type": "markdown",
   "metadata": {},
   "source": [
    "Заберём исходный код страницы и преобразуем строку с ним в объект `BeautifulSoup`:"
   ]
  },
  {
   "cell_type": "code",
   "execution_count": 3,
   "metadata": {},
   "outputs": [],
   "source": [
    "soup = BeautifulSoup(page.text)"
   ]
  },
  {
   "cell_type": "markdown",
   "metadata": {},
   "source": [
    "Чтобы сгрузить все новости с главной страницы сайта, нужно собрать все ссылки на страницы с этими новостями. Ссылки в html-файле всегда заключены в тэг `<a></a>` и имеют атрибут `href`. Найдем кусочки кода HTML, соответствующие всем ссылкам на главной странице сайта:"
   ]
  },
  {
   "cell_type": "code",
   "execution_count": 4,
   "metadata": {},
   "outputs": [
    {
     "data": {
      "text/plain": [
       "[<a class=\"hover:underline transition-colors duration-75\" href=\"https://nplus1.ru/search?tags=880\">Астрономия</a>,\n",
       " <a class=\"hover:underline transition-colors duration-75\" href=\"https://nplus1.ru/search?tags=768\">Генетика</a>,\n",
       " <a class=\"hover:underline transition-colors duration-75\" href=\"https://nplus1.ru/search?tags=890\">Математика</a>,\n",
       " <a class=\"hover:underline transition-colors duration-75\" href=\"https://nplus1.ru/search?tags=871\">Космонавтика</a>,\n",
       " <a class=\"hover:underline transition-colors duration-75\" href=\"https://nplus1.ru/search?tags=876\">Археология</a>,\n",
       " <a class=\"hover:underline transition-colors duration-75\" href=\"https://nplus1.ru/search?tags=775\">Нейронауки</a>,\n",
       " <a class=\"hover:underline transition-colors duration-75\" href=\"https://nplus1.ru/search?tags=767\">На мышах</a>,\n",
       " <a class=\"hover:underline transition-colors duration-75\" href=\"https://nplus1.ru/search?tags=771\">Звук</a>,\n",
       " <a class=\"hover:underline transition-colors duration-75\" href=\"https://nplus1.ru/search?tags=772\">Красота</a>,\n",
       " <a class=\"hover:underline transition-colors duration-75\" href=\"https://nplus1.ru/search?tags=778\">Научные закрытия</a>]"
      ]
     },
     "execution_count": 4,
     "metadata": {},
     "output_type": "execute_result"
    }
   ],
   "source": [
    "links_raw = soup.find_all(\"a\") \n",
    "links_raw[10:20]  # несколько штук для примера"
   ]
  },
  {
   "cell_type": "markdown",
   "metadata": {},
   "source": [
    "Каждый элемент возвращаемого списка имеет тип `BeautifulSoup` и структуру, очень похожую на словарь. Например, ссылка `<a class=\"hover:underline transition-colors duration-75\" href=\"/search/empty/768\">Генетика</a>` изнутри выглядит как словарь следующего вида:\n",
    "\n",
    "    {'href' : '/search/empty/768', \n",
    "     'class' : 'hover:underline transition-colors duration-75'}.\n",
    "    \n",
    "Как мы помним, значение по ключу из словаря можно вызвать с помощью метода `.get()`. Давайте извлечем значения по ключу `href` из каждого элемента списка `links`:"
   ]
  },
  {
   "cell_type": "code",
   "execution_count": 5,
   "metadata": {},
   "outputs": [
    {
     "data": {
      "text/plain": [
       "['https://nplus1.ru/search?tags=880',\n",
       " 'https://nplus1.ru/search?tags=768',\n",
       " 'https://nplus1.ru/search?tags=890',\n",
       " 'https://nplus1.ru/search?tags=871',\n",
       " 'https://nplus1.ru/search?tags=876',\n",
       " 'https://nplus1.ru/search?tags=775',\n",
       " 'https://nplus1.ru/search?tags=767',\n",
       " 'https://nplus1.ru/search?tags=771',\n",
       " 'https://nplus1.ru/search?tags=772',\n",
       " 'https://nplus1.ru/search?tags=778']"
      ]
     },
     "execution_count": 5,
     "metadata": {},
     "output_type": "execute_result"
    }
   ],
   "source": [
    "links = [li.get(\"href\") for li in links_raw] \n",
    "links[10:20]  # несколько штук для примера"
   ]
  },
  {
   "cell_type": "markdown",
   "metadata": {},
   "source": [
    "Ссылок в списке выше много. Но нам нужны только новости – ссылки, которые начинаются с `https://nplus1.ru/news`. Создадим пустой список `news` и будем добавлять в него только ссылки, которые удовлетворяют этому условию."
   ]
  },
  {
   "cell_type": "code",
   "execution_count": 6,
   "metadata": {},
   "outputs": [],
   "source": [
    "news = []\n",
    "for li in links:\n",
    "    if \"https://nplus1.ru/news/\" in li:\n",
    "        news.append(li)"
   ]
  },
  {
   "cell_type": "code",
   "execution_count": 7,
   "metadata": {},
   "outputs": [
    {
     "data": {
      "text/plain": [
       "['https://nplus1.ru/news/2015/09/21/editor-thy-name',\n",
       " 'https://nplus1.ru/news/2023/10/18/beware-ppi',\n",
       " 'https://nplus1.ru/news/2023/10/21/frb-and-plasma',\n",
       " 'https://nplus1.ru/news/2023/10/21/cognitive-behavior-therapy',\n",
       " 'https://nplus1.ru/news/2023/10/21/pulsatile-hydrocortisone',\n",
       " 'https://nplus1.ru/news/2023/10/21/daily-steps-prior-to-surgery',\n",
       " 'https://nplus1.ru/news/2023/10/20/eye-ticking',\n",
       " 'https://nplus1.ru/news/2023/10/20/python-ate-python',\n",
       " 'https://nplus1.ru/news/2023/10/20/air-pollution-and-breast-cancer',\n",
       " 'https://nplus1.ru/news/2023/10/20/voice-prediction-diabetes']"
      ]
     },
     "execution_count": 7,
     "metadata": {},
     "output_type": "execute_result"
    }
   ],
   "source": [
    "news[0:10]"
   ]
  },
  {
   "cell_type": "markdown",
   "metadata": {},
   "source": [
    "Первая ссылка ведет не совсем на новость, скорее, на объявление, поэтому давайте ее уберем:"
   ]
  },
  {
   "cell_type": "code",
   "execution_count": 8,
   "metadata": {},
   "outputs": [],
   "source": [
    "news = news[1:] "
   ]
  },
  {
   "cell_type": "markdown",
   "metadata": {},
   "source": [
    "Теперь наша задача сводится к следующему: изучить одну страницу с новостью, научиться из нее вытаскивать текст и всю необходимую информацию, а потом применить весь набор действий к каждой ссылке из `news` в цикле. Посмотрим на новость с индексом 0, у вас может быть другая, новости обновляются."
   ]
  },
  {
   "cell_type": "code",
   "execution_count": 9,
   "metadata": {},
   "outputs": [
    {
     "name": "stdout",
     "output_type": "stream",
     "text": [
      "https://nplus1.ru/news/2023/10/18/beware-ppi\n"
     ]
    }
   ],
   "source": [
    "link0 = news[0]\n",
    "print(link0)"
   ]
  },
  {
   "cell_type": "markdown",
   "metadata": {},
   "source": [
    "### Задача 1\n",
    "\n",
    "Отправьте запрос к странице по ссылке `link0` с одной новостью, получите результат в виде объекта `BeautifulSoup` и сохраните его как `soup0`."
   ]
  },
  {
   "cell_type": "code",
   "execution_count": 10,
   "metadata": {},
   "outputs": [],
   "source": [
    "page0 = requests.get(link0)\n",
    "soup0 = BeautifulSoup(page0.text)"
   ]
  },
  {
   "cell_type": "markdown",
   "metadata": {},
   "source": [
    "### Задача 2\n",
    "\n",
    "Найдите заголовок новости и сохраните его в переменную `title`."
   ]
  },
  {
   "cell_type": "code",
   "execution_count": 11,
   "metadata": {},
   "outputs": [
    {
     "name": "stdout",
     "output_type": "stream",
     "text": [
      "Связь противоязвенных препаратов с деменцией подтвердили в крупном исследовании. Оно охватило почти два миллиона человек за 19 лет\n"
     ]
    }
   ],
   "source": [
    "title = soup0.find(\"title\").text\n",
    "print(title)"
   ]
  },
  {
   "cell_type": "markdown",
   "metadata": {},
   "source": [
    "### Задача 3\n",
    "\n",
    "Найдите имя автора новости и дату её публикации. Сохраните их в `author` и `date` соответственно."
   ]
  },
  {
   "cell_type": "code",
   "execution_count": 12,
   "metadata": {},
   "outputs": [
    {
     "name": "stdout",
     "output_type": "stream",
     "text": [
      "2023-10-18 Олег Лищук\n"
     ]
    }
   ],
   "source": [
    "date = soup0.find(\"meta\", {\"itemprop\" : \"datePublished\"}).get(\"content\") \n",
    "author = soup0.find(\"meta\", {\"name\" : \"author\"}).get(\"content\") \n",
    "print(date, author)"
   ]
  },
  {
   "cell_type": "markdown",
   "metadata": {},
   "source": [
    "### Задача 4\n",
    "\n",
    "Найдите сложность новости и рубрики, к которым она относится. Сохраните сложность в переменную `diffc`. Рубрики сначала можно сохранить в список, а затем его элементы объединить в одну строку `rubs`.\n",
    "\n",
    "**Подсказка:** чтобы упростить себе жизнь, найдите сначала раздел (`div`), в котором на странице хранится дата и время публикации, сложность и рубрики, а затем выполняйте поиск в рамках этого раздела."
   ]
  },
  {
   "cell_type": "code",
   "execution_count": 13,
   "metadata": {},
   "outputs": [
    {
     "name": "stdout",
     "output_type": "stream",
     "text": [
      "2.9\n"
     ]
    }
   ],
   "source": [
    "div = soup0.find(\"div\", \n",
    "                 {\"class\" : \"flex flex-wrap lg:mb-10 gap-2 text-tags xl:pr-9\"})\n",
    "diffc = div.find_all(\"span\")[3].text\n",
    "print(diffc)"
   ]
  },
  {
   "cell_type": "code",
   "execution_count": 14,
   "metadata": {},
   "outputs": [
    {
     "name": "stdout",
     "output_type": "stream",
     "text": [
      "Медицина\n"
     ]
    }
   ],
   "source": [
    "rubs_raw = div.find_all(\"span\")[4:] \n",
    "rubs_L = [r.text for r in rubs_raw] \n",
    "rubs = \", \".join(rubs_L)\n",
    "print(rubs)"
   ]
  },
  {
   "cell_type": "markdown",
   "metadata": {},
   "source": [
    "### Задача 5\n",
    "\n",
    "Соберите из абзацев текст новости и сохраните его в переменную `text`. Избавьтесь от постронних символов (`\\xa0`, `\\n`) в тексте. "
   ]
  },
  {
   "cell_type": "code",
   "execution_count": 15,
   "metadata": {},
   "outputs": [],
   "source": [
    "# на занятии решили не избавляться от \\n\n",
    "# потом передумали – на этапе работы с датафреймом поправили\n",
    "\n",
    "pars_raw = soup0.find_all(\"p\", {\"class\" : \"mb-6\"}) \n",
    "pars = [p.text for p in pars_raw] \n",
    "text = \" \".join(pars)\n",
    "text = text.replace(\"\\xa0\", \" \")"
   ]
  },
  {
   "cell_type": "markdown",
   "metadata": {},
   "source": [
    "### Задача 6\n",
    "\n",
    "Напишите функцию `get_news()`, которая принимает на вход ссылку на страницу с одной новостью, а возвращает список из следующих характеристик: имя автора, дата публикации, сложность новости, рубрики, текст новости."
   ]
  },
  {
   "cell_type": "code",
   "execution_count": 16,
   "metadata": {},
   "outputs": [],
   "source": [
    "# в условии пропущен заголовок, его тоже забираем\n",
    "\n",
    "def get_news(link0):\n",
    "\n",
    "    page0 = requests.get(link0)\n",
    "    soup0 = BeautifulSoup(page0.text)\n",
    "    title = soup0.find(\"title\").text\n",
    "    date = soup0.find(\"meta\", {\"itemprop\" : \"datePublished\"}).get(\"content\") \n",
    "    author = soup0.find(\"meta\", {\"name\" : \"author\"}).get(\"content\") \n",
    "    div = soup0.find(\"div\", \n",
    "                 {\"class\" : \"flex flex-wrap lg:mb-10 gap-2 text-tags xl:pr-9\"})\n",
    "    diffc = div.find_all(\"span\")[3].text\n",
    "    rubs_raw = div.find_all(\"span\")[4:] \n",
    "    rubs_L = [r.text for r in rubs_raw] \n",
    "    rubs = \", \".join(rubs_L)\n",
    "    pars_raw = soup0.find_all(\"p\", {\"class\" : \"mb-6\"}) \n",
    "    pars = [p.text for p in pars_raw] \n",
    "    text = \" \".join(pars)\n",
    "    text = text.replace(\"\\xa0\", \" \").replace(\"\\n\", \" \")\n",
    "    \n",
    "    return [title, author, date, diffc, rubs, text]"
   ]
  },
  {
   "cell_type": "markdown",
   "metadata": {},
   "source": [
    "Отлично! Теперь осталось применить функцию ко всем ссылкам в списке `news`. Чтобы сайт не понял, что мы его автоматически грабим, будем выгружать новости постепенно – с задержкой в 1.5 секунды. Импортируем для этого функцию `sleep` :"
   ]
  },
  {
   "cell_type": "code",
   "execution_count": 17,
   "metadata": {},
   "outputs": [],
   "source": [
    "from time import sleep"
   ]
  },
  {
   "cell_type": "markdown",
   "metadata": {},
   "source": [
    "Теперь будем применять функцию в цикле к каждой ссылке в `news`, только с одним дополнением – добавленной конструкцией `try-except`, которая позволит продолжать исполнение цикла, если при применении функции Python столкнулся с ошибкой любого вида:"
   ]
  },
  {
   "cell_type": "code",
   "execution_count": 18,
   "metadata": {},
   "outputs": [
    {
     "name": "stdout",
     "output_type": "stream",
     "text": [
      "https://nplus1.ru/news/2023/10/18/beware-ppi\n",
      "https://nplus1.ru/news/2023/10/21/frb-and-plasma\n",
      "https://nplus1.ru/news/2023/10/21/cognitive-behavior-therapy\n",
      "https://nplus1.ru/news/2023/10/21/pulsatile-hydrocortisone\n",
      "https://nplus1.ru/news/2023/10/21/daily-steps-prior-to-surgery\n",
      "https://nplus1.ru/news/2023/10/20/eye-ticking\n",
      "https://nplus1.ru/news/2023/10/20/python-ate-python\n",
      "https://nplus1.ru/news/2023/10/20/air-pollution-and-breast-cancer\n",
      "https://nplus1.ru/news/2023/10/20/voice-prediction-diabetes\n",
      "https://nplus1.ru/news/2023/10/20/janus-kinase-inhibitors-and-acne\n",
      "https://nplus1.ru/news/2023/10/20/gorillas-inbreeding\n",
      "https://nplus1.ru/news/2023/10/20/suzuki-moqba\n",
      "https://nplus1.ru/news/2023/10/20/threshold-greenland-ice-shield\n",
      "https://nplus1.ru/news/2023/10/20/neanderthal-ancestry\n",
      "https://nplus1.ru/news/2023/10/20/snake-gun-from-orel\n",
      "https://nplus1.ru/news/2023/10/20/come-on-digit-get-up\n",
      "https://nplus1.ru/news/2023/10/19/mars-drone-again-wins\n",
      "https://nplus1.ru/news/2023/10/19/io-juno\n",
      "https://nplus1.ru/news/2023/10/19/guillain-barre-syndrome-and-covid\n",
      "https://nplus1.ru/news/2023/10/19/indian-ocean-tsunami-14-years-later\n",
      "https://nplus1.ru/news/2023/10/19/rubber-deforestation\n",
      "https://nplus1.ru/news/2023/10/19/fake-boose\n",
      "https://nplus1.ru/news/2023/10/19/septoplasty\n",
      "https://nplus1.ru/news/2023/10/18/figure01\n",
      "https://nplus1.ru/news/2023/10/18/time-depth-google-quantum-pc\n",
      "https://nplus1.ru/news/2023/10/18/gondwana-sublithospheric-diamond\n",
      "https://nplus1.ru/news/2023/10/18/ensitrelvir\n",
      "https://nplus1.ru/news/2023/10/18/is-snoozing-losing\n",
      "https://nplus1.ru/news/2023/10/18/chinge-tey\n",
      "https://nplus1.ru/news/2023/10/18/pepper-x\n",
      "https://nplus1.ru/news/2023/10/18/quartz-clouds-of-wasp-17-b\n",
      "https://nplus1.ru/news/2023/10/18/degradable-soil-sensors\n",
      "https://nplus1.ru/news/2023/10/18/hoard-found-in-carrot-field\n",
      "https://nplus1.ru/news/2023/10/17/candida-amyloids\n",
      "https://nplus1.ru/news/2023/10/17/naduvnoi-robot-avatar\n",
      "https://nplus1.ru/news/2023/10/17/al-ghoreifa\n",
      "https://nplus1.ru/news/2023/10/17/fur-seals\n",
      "https://nplus1.ru/news/2023/10/17/ramesses-ii\n",
      "https://nplus1.ru/news/2023/10/04/frb-gw-or-no\n",
      "https://nplus1.ru/news/2023/10/04/sulfur-of-deccan-traps\n",
      "https://nplus1.ru/news/2023/10/06/antimatter-falls-down\n",
      "https://nplus1.ru/news/2023/10/07/shergottite-meteorites\n",
      "https://nplus1.ru/news/2023/10/10/pontus-plate\n",
      "https://nplus1.ru/news/2023/10/10/vega-tev\n",
      "https://nplus1.ru/news/2023/10/12/got-kidneys\n",
      "https://nplus1.ru/news/2023/10/16/neutral-atoms-new-level-fidelity\n",
      "https://nplus1.ru/news/2023/10/17/isotop-9n\n",
      "https://nplus1.ru/news/2023/10/18/time-depth-google-quantum-pc\n",
      "https://nplus1.ru/news/2023/10/18/gondwana-sublithospheric-diamond\n",
      "https://nplus1.ru/news/2023/10/20/eye-ticking\n"
     ]
    }
   ],
   "source": [
    "info = []\n",
    "for n in news:\n",
    "    # пробуй исполнить следующий код\n",
    "    try:\n",
    "        res = get_news(n)\n",
    "        info.append(res)\n",
    "        print(n)\n",
    "    # если он вызвал ошибку, печатай сообщение и иди дальше\n",
    "    except:\n",
    "        print(\"Something went wrong\")\n",
    "        print(n)\n",
    "    sleep(1.2)"
   ]
  },
  {
   "cell_type": "markdown",
   "metadata": {},
   "source": [
    "Посмотрим на несколько элементов `info`:"
   ]
  },
  {
   "cell_type": "code",
   "execution_count": null,
   "metadata": {},
   "outputs": [],
   "source": [
    "info[10:12]"
   ]
  },
  {
   "cell_type": "markdown",
   "metadata": {},
   "source": [
    "Финальный штрих – импортируем `pandas` и преобразуемый полученный список списков в датафрейм:"
   ]
  },
  {
   "cell_type": "code",
   "execution_count": 19,
   "metadata": {},
   "outputs": [],
   "source": [
    "import pandas as pd"
   ]
  },
  {
   "cell_type": "code",
   "execution_count": 20,
   "metadata": {},
   "outputs": [
    {
     "data": {
      "text/html": [
       "<div>\n",
       "<style scoped>\n",
       "    .dataframe tbody tr th:only-of-type {\n",
       "        vertical-align: middle;\n",
       "    }\n",
       "\n",
       "    .dataframe tbody tr th {\n",
       "        vertical-align: top;\n",
       "    }\n",
       "\n",
       "    .dataframe thead th {\n",
       "        text-align: right;\n",
       "    }\n",
       "</style>\n",
       "<table border=\"1\" class=\"dataframe\">\n",
       "  <thead>\n",
       "    <tr style=\"text-align: right;\">\n",
       "      <th></th>\n",
       "      <th>0</th>\n",
       "      <th>1</th>\n",
       "      <th>2</th>\n",
       "      <th>3</th>\n",
       "      <th>4</th>\n",
       "      <th>5</th>\n",
       "    </tr>\n",
       "  </thead>\n",
       "  <tbody>\n",
       "    <tr>\n",
       "      <th>0</th>\n",
       "      <td>Связь противоязвенных препаратов с деменцией п...</td>\n",
       "      <td>Олег Лищук</td>\n",
       "      <td>2023-10-18</td>\n",
       "      <td>2.9</td>\n",
       "      <td>Медицина</td>\n",
       "      <td>Оно охватило почти два миллиона человек за 19 ...</td>\n",
       "    </tr>\n",
       "    <tr>\n",
       "      <th>1</th>\n",
       "      <td>Самый далекий быстрый радиовсплеск прошел скво...</td>\n",
       "      <td>Александр Войтюк</td>\n",
       "      <td>2023-10-21</td>\n",
       "      <td>4.9</td>\n",
       "      <td>Астрономия</td>\n",
       "      <td>Излучение шло до Земли около 8 миллиардов лет ...</td>\n",
       "    </tr>\n",
       "    <tr>\n",
       "      <th>2</th>\n",
       "      <td>Когнитивно-поведенческая терапия оказалась эфф...</td>\n",
       "      <td>Слава Гоменюк</td>\n",
       "      <td>2023-10-21</td>\n",
       "      <td>3.2</td>\n",
       "      <td>Медицина</td>\n",
       "      <td>Это показал метаанализ Систематический обзор и...</td>\n",
       "    </tr>\n",
       "    <tr>\n",
       "      <th>3</th>\n",
       "      <td>Подкожная помпа с кортизолом эффективно облегч...</td>\n",
       "      <td>Слава Гоменюк</td>\n",
       "      <td>2023-10-21</td>\n",
       "      <td>4.3</td>\n",
       "      <td>Медицина</td>\n",
       "      <td>В частности — эмоциональные нарушения Британск...</td>\n",
       "    </tr>\n",
       "    <tr>\n",
       "      <th>4</th>\n",
       "      <td>Семь с половиной тысяч шагов в день до операци...</td>\n",
       "      <td>Слава Гоменюк</td>\n",
       "      <td>2023-10-21</td>\n",
       "      <td>2.9</td>\n",
       "      <td>Медицина</td>\n",
       "      <td>Риск снизился на половину Согласно результатам...</td>\n",
       "    </tr>\n",
       "  </tbody>\n",
       "</table>\n",
       "</div>"
      ],
      "text/plain": [
       "                                                   0                 1  \\\n",
       "0  Связь противоязвенных препаратов с деменцией п...        Олег Лищук   \n",
       "1  Самый далекий быстрый радиовсплеск прошел скво...  Александр Войтюк   \n",
       "2  Когнитивно-поведенческая терапия оказалась эфф...     Слава Гоменюк   \n",
       "3  Подкожная помпа с кортизолом эффективно облегч...     Слава Гоменюк   \n",
       "4  Семь с половиной тысяч шагов в день до операци...     Слава Гоменюк   \n",
       "\n",
       "            2    3           4  \\\n",
       "0  2023-10-18  2.9    Медицина   \n",
       "1  2023-10-21  4.9  Астрономия   \n",
       "2  2023-10-21  3.2    Медицина   \n",
       "3  2023-10-21  4.3    Медицина   \n",
       "4  2023-10-21  2.9    Медицина   \n",
       "\n",
       "                                                   5  \n",
       "0  Оно охватило почти два миллиона человек за 19 ...  \n",
       "1  Излучение шло до Земли около 8 миллиардов лет ...  \n",
       "2  Это показал метаанализ Систематический обзор и...  \n",
       "3  В частности — эмоциональные нарушения Британск...  \n",
       "4  Риск снизился на половину Согласно результатам...  "
      ]
     },
     "execution_count": 20,
     "metadata": {},
     "output_type": "execute_result"
    }
   ],
   "source": [
    "df = pd.DataFrame(info)\n",
    "df.head()"
   ]
  },
  {
   "cell_type": "markdown",
   "metadata": {},
   "source": [
    "Добавим содержательные названия столбцов и выгрузим датафрейм в файл:"
   ]
  },
  {
   "cell_type": "code",
   "execution_count": 21,
   "metadata": {},
   "outputs": [
    {
     "data": {
      "text/html": [
       "<div>\n",
       "<style scoped>\n",
       "    .dataframe tbody tr th:only-of-type {\n",
       "        vertical-align: middle;\n",
       "    }\n",
       "\n",
       "    .dataframe tbody tr th {\n",
       "        vertical-align: top;\n",
       "    }\n",
       "\n",
       "    .dataframe thead th {\n",
       "        text-align: right;\n",
       "    }\n",
       "</style>\n",
       "<table border=\"1\" class=\"dataframe\">\n",
       "  <thead>\n",
       "    <tr style=\"text-align: right;\">\n",
       "      <th></th>\n",
       "      <th>title</th>\n",
       "      <th>author</th>\n",
       "      <th>date</th>\n",
       "      <th>diffc</th>\n",
       "      <th>rubrics</th>\n",
       "      <th>text</th>\n",
       "    </tr>\n",
       "  </thead>\n",
       "  <tbody>\n",
       "    <tr>\n",
       "      <th>0</th>\n",
       "      <td>Связь противоязвенных препаратов с деменцией п...</td>\n",
       "      <td>Олег Лищук</td>\n",
       "      <td>2023-10-18</td>\n",
       "      <td>2.9</td>\n",
       "      <td>Медицина</td>\n",
       "      <td>Оно охватило почти два миллиона человек за 19 ...</td>\n",
       "    </tr>\n",
       "    <tr>\n",
       "      <th>1</th>\n",
       "      <td>Самый далекий быстрый радиовсплеск прошел скво...</td>\n",
       "      <td>Александр Войтюк</td>\n",
       "      <td>2023-10-21</td>\n",
       "      <td>4.9</td>\n",
       "      <td>Астрономия</td>\n",
       "      <td>Излучение шло до Земли около 8 миллиардов лет ...</td>\n",
       "    </tr>\n",
       "    <tr>\n",
       "      <th>2</th>\n",
       "      <td>Когнитивно-поведенческая терапия оказалась эфф...</td>\n",
       "      <td>Слава Гоменюк</td>\n",
       "      <td>2023-10-21</td>\n",
       "      <td>3.2</td>\n",
       "      <td>Медицина</td>\n",
       "      <td>Это показал метаанализ Систематический обзор и...</td>\n",
       "    </tr>\n",
       "    <tr>\n",
       "      <th>3</th>\n",
       "      <td>Подкожная помпа с кортизолом эффективно облегч...</td>\n",
       "      <td>Слава Гоменюк</td>\n",
       "      <td>2023-10-21</td>\n",
       "      <td>4.3</td>\n",
       "      <td>Медицина</td>\n",
       "      <td>В частности — эмоциональные нарушения Британск...</td>\n",
       "    </tr>\n",
       "    <tr>\n",
       "      <th>4</th>\n",
       "      <td>Семь с половиной тысяч шагов в день до операци...</td>\n",
       "      <td>Слава Гоменюк</td>\n",
       "      <td>2023-10-21</td>\n",
       "      <td>2.9</td>\n",
       "      <td>Медицина</td>\n",
       "      <td>Риск снизился на половину Согласно результатам...</td>\n",
       "    </tr>\n",
       "  </tbody>\n",
       "</table>\n",
       "</div>"
      ],
      "text/plain": [
       "                                               title            author  \\\n",
       "0  Связь противоязвенных препаратов с деменцией п...        Олег Лищук   \n",
       "1  Самый далекий быстрый радиовсплеск прошел скво...  Александр Войтюк   \n",
       "2  Когнитивно-поведенческая терапия оказалась эфф...     Слава Гоменюк   \n",
       "3  Подкожная помпа с кортизолом эффективно облегч...     Слава Гоменюк   \n",
       "4  Семь с половиной тысяч шагов в день до операци...     Слава Гоменюк   \n",
       "\n",
       "         date diffc     rubrics  \\\n",
       "0  2023-10-18   2.9    Медицина   \n",
       "1  2023-10-21   4.9  Астрономия   \n",
       "2  2023-10-21   3.2    Медицина   \n",
       "3  2023-10-21   4.3    Медицина   \n",
       "4  2023-10-21   2.9    Медицина   \n",
       "\n",
       "                                                text  \n",
       "0  Оно охватило почти два миллиона человек за 19 ...  \n",
       "1  Излучение шло до Земли около 8 миллиардов лет ...  \n",
       "2  Это показал метаанализ Систематический обзор и...  \n",
       "3  В частности — эмоциональные нарушения Британск...  \n",
       "4  Риск снизился на половину Согласно результатам...  "
      ]
     },
     "execution_count": 21,
     "metadata": {},
     "output_type": "execute_result"
    }
   ],
   "source": [
    "df.columns = [\"title\", \"author\", \"date\", \"diffc\", \"rubrics\", \"text\"]\n",
    "df.head()"
   ]
  },
  {
   "cell_type": "markdown",
   "metadata": {},
   "source": [
    "**Дополнение 1.**  В списке ссылок какие-то ссылки встретились более одного раза – избавимся от одинаковых строк в таблице:"
   ]
  },
  {
   "cell_type": "code",
   "execution_count": 22,
   "metadata": {},
   "outputs": [],
   "source": [
    "# inplace = True – чтобы сохранить изменения в df\n",
    "# более изящная альтернатива df = df.drop_duplicates()\n",
    "\n",
    "df.drop_duplicates(inplace = True)"
   ]
  },
  {
   "cell_type": "markdown",
   "metadata": {},
   "source": [
    "**Дополнение 2.** Избавимся от `/n`, которые все-таки закрались в тексты новостей. Напишем lambda-функцию, которая будет описывать действие для одной ячейки в столбце, и применим ее ко всему столбцу `text` с помощью метода `.apply()`: "
   ]
  },
  {
   "cell_type": "code",
   "execution_count": 23,
   "metadata": {},
   "outputs": [],
   "source": [
    "# x – наше условное название для содержимого одной ячейки\n",
    "# функция с lambda без названия принимает на вход x (до :)\n",
    "# и возвращает его же, но с исправленными символами (после :)\n",
    "# метод .apply() «растягивает» функцию на все ячейки\n",
    "# перезаписываем столбец text\n",
    "\n",
    "df[\"text\"] = df[\"text\"].apply(lambda x: x.replace(\"\\n\", \" \"))"
   ]
  },
  {
   "cell_type": "markdown",
   "metadata": {},
   "source": [
    "**Дополнение 3.** Исправим тип столбца со сложностью новости – сделаем его типом `float`, чтобы с элементами можно было работать как с числами."
   ]
  },
  {
   "cell_type": "code",
   "execution_count": 24,
   "metadata": {},
   "outputs": [],
   "source": [
    "df[\"diffc\"] = df[\"diffc\"].astype(float)"
   ]
  },
  {
   "cell_type": "markdown",
   "metadata": {},
   "source": [
    "Раз сделали столбец числовым, значит, его можно использовать для сортировки! Отсортируем строки в датафрейме от самой сложной новости к самой простой:"
   ]
  },
  {
   "cell_type": "code",
   "execution_count": 26,
   "metadata": {},
   "outputs": [],
   "source": [
    "df.sort_values(\"diffc\", ascending = False)"
   ]
  },
  {
   "cell_type": "markdown",
   "metadata": {},
   "source": [
    "Топ-3 самых сложных новостей:"
   ]
  },
  {
   "cell_type": "code",
   "execution_count": 27,
   "metadata": {},
   "outputs": [
    {
     "data": {
      "text/html": [
       "<div>\n",
       "<style scoped>\n",
       "    .dataframe tbody tr th:only-of-type {\n",
       "        vertical-align: middle;\n",
       "    }\n",
       "\n",
       "    .dataframe tbody tr th {\n",
       "        vertical-align: top;\n",
       "    }\n",
       "\n",
       "    .dataframe thead th {\n",
       "        text-align: right;\n",
       "    }\n",
       "</style>\n",
       "<table border=\"1\" class=\"dataframe\">\n",
       "  <thead>\n",
       "    <tr style=\"text-align: right;\">\n",
       "      <th></th>\n",
       "      <th>title</th>\n",
       "      <th>author</th>\n",
       "      <th>date</th>\n",
       "      <th>diffc</th>\n",
       "      <th>rubrics</th>\n",
       "      <th>text</th>\n",
       "    </tr>\n",
       "  </thead>\n",
       "  <tbody>\n",
       "    <tr>\n",
       "      <th>24</th>\n",
       "      <td>Пространственная и временная координаты поменя...</td>\n",
       "      <td>Оксана Борзенкова</td>\n",
       "      <td>2023-10-18</td>\n",
       "      <td>8.5</td>\n",
       "      <td></td>\n",
       "      <td>Этот подход может оказаться полезным не только...</td>\n",
       "    </tr>\n",
       "    <tr>\n",
       "      <th>45</th>\n",
       "      <td>Квантовые вычислители на нейтральных атомах за...</td>\n",
       "      <td>Оксана Борзенкова</td>\n",
       "      <td>2023-10-16</td>\n",
       "      <td>8.3</td>\n",
       "      <td>Физика</td>\n",
       "      <td>А еще они теперь могут исправлять ошибки во вр...</td>\n",
       "    </tr>\n",
       "    <tr>\n",
       "      <th>40</th>\n",
       "      <td>Антиматерия упала вниз. Гравитация Земли притя...</td>\n",
       "      <td>Дмитрий Рудик</td>\n",
       "      <td>2023-10-06</td>\n",
       "      <td>7.8</td>\n",
       "      <td>Физика</td>\n",
       "      <td>Гравитация Земли притягивает атомы антивеществ...</td>\n",
       "    </tr>\n",
       "  </tbody>\n",
       "</table>\n",
       "</div>"
      ],
      "text/plain": [
       "                                                title             author  \\\n",
       "24  Пространственная и временная координаты поменя...  Оксана Борзенкова   \n",
       "45  Квантовые вычислители на нейтральных атомах за...  Оксана Борзенкова   \n",
       "40  Антиматерия упала вниз. Гравитация Земли притя...      Дмитрий Рудик   \n",
       "\n",
       "          date  diffc rubrics  \\\n",
       "24  2023-10-18    8.5           \n",
       "45  2023-10-16    8.3  Физика   \n",
       "40  2023-10-06    7.8  Физика   \n",
       "\n",
       "                                                 text  \n",
       "24  Этот подход может оказаться полезным не только...  \n",
       "45  А еще они теперь могут исправлять ошибки во вр...  \n",
       "40  Гравитация Земли притягивает атомы антивеществ...  "
      ]
     },
     "execution_count": 27,
     "metadata": {},
     "output_type": "execute_result"
    }
   ],
   "source": [
    "df.sort_values(\"diffc\", ascending = False).head(3)"
   ]
  },
  {
   "cell_type": "markdown",
   "metadata": {},
   "source": [
    "Топ-3 самых простых новостей:"
   ]
  },
  {
   "cell_type": "code",
   "execution_count": 28,
   "metadata": {},
   "outputs": [
    {
     "data": {
      "text/html": [
       "<div>\n",
       "<style scoped>\n",
       "    .dataframe tbody tr th:only-of-type {\n",
       "        vertical-align: middle;\n",
       "    }\n",
       "\n",
       "    .dataframe tbody tr th {\n",
       "        vertical-align: top;\n",
       "    }\n",
       "\n",
       "    .dataframe thead th {\n",
       "        text-align: right;\n",
       "    }\n",
       "</style>\n",
       "<table border=\"1\" class=\"dataframe\">\n",
       "  <thead>\n",
       "    <tr style=\"text-align: right;\">\n",
       "      <th></th>\n",
       "      <th>title</th>\n",
       "      <th>author</th>\n",
       "      <th>date</th>\n",
       "      <th>diffc</th>\n",
       "      <th>rubrics</th>\n",
       "      <th>text</th>\n",
       "    </tr>\n",
       "  </thead>\n",
       "  <tbody>\n",
       "    <tr>\n",
       "      <th>32</th>\n",
       "      <td>Швейцарец обнаружил на морковном поле клад эпо...</td>\n",
       "      <td>Михаил Подрезов</td>\n",
       "      <td>2023-10-18</td>\n",
       "      <td>1.1</td>\n",
       "      <td>Археология</td>\n",
       "      <td>Возраст находок составляет около 3500 лет Швей...</td>\n",
       "    </tr>\n",
       "    <tr>\n",
       "      <th>6</th>\n",
       "      <td>Питон съел питона. Заживо</td>\n",
       "      <td>Катерина Петрова</td>\n",
       "      <td>2023-10-20</td>\n",
       "      <td>1.1</td>\n",
       "      <td>Зоология</td>\n",
       "      <td>Заживо Ник Сток (Nick Stock), управляющий Авст...</td>\n",
       "    </tr>\n",
       "    <tr>\n",
       "      <th>14</th>\n",
       "      <td>В Орле нашли пищаль XVII века. Она украшена де...</td>\n",
       "      <td>Михаил Подрезов</td>\n",
       "      <td>2023-10-20</td>\n",
       "      <td>1.2</td>\n",
       "      <td>Археология</td>\n",
       "      <td>Она украшена декором в виде змеиной головы Исс...</td>\n",
       "    </tr>\n",
       "  </tbody>\n",
       "</table>\n",
       "</div>"
      ],
      "text/plain": [
       "                                                title            author  \\\n",
       "32  Швейцарец обнаружил на морковном поле клад эпо...   Михаил Подрезов   \n",
       "6                           Питон съел питона. Заживо  Катерина Петрова   \n",
       "14  В Орле нашли пищаль XVII века. Она украшена де...   Михаил Подрезов   \n",
       "\n",
       "          date  diffc     rubrics  \\\n",
       "32  2023-10-18    1.1  Археология   \n",
       "6   2023-10-20    1.1    Зоология   \n",
       "14  2023-10-20    1.2  Археология   \n",
       "\n",
       "                                                 text  \n",
       "32  Возраст находок составляет около 3500 лет Швей...  \n",
       "6   Заживо Ник Сток (Nick Stock), управляющий Авст...  \n",
       "14  Она украшена декором в виде змеиной головы Исс...  "
      ]
     },
     "execution_count": 28,
     "metadata": {},
     "output_type": "execute_result"
    }
   ],
   "source": [
    "df.sort_values(\"diffc\").head(3)"
   ]
  },
  {
   "cell_type": "markdown",
   "metadata": {},
   "source": [
    "Наконец, выгружаем датафрейм в файл:"
   ]
  },
  {
   "cell_type": "code",
   "execution_count": 29,
   "metadata": {},
   "outputs": [],
   "source": [
    "df.to_excel(\"nplus1.xlsx\")"
   ]
  }
 ],
 "metadata": {
  "kernelspec": {
   "display_name": "Python 3",
   "language": "python",
   "name": "python3"
  },
  "language_info": {
   "codemirror_mode": {
    "name": "ipython",
    "version": 3
   },
   "file_extension": ".py",
   "mimetype": "text/x-python",
   "name": "python",
   "nbconvert_exporter": "python",
   "pygments_lexer": "ipython3",
   "version": "3.7.4"
  }
 },
 "nbformat": 4,
 "nbformat_minor": 2
}
