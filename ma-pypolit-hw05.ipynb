{
 "cells": [
  {
   "cell_type": "markdown",
   "metadata": {},
   "source": [
    "# Программирование для всех\n",
    "\n",
    "*Автор задач: Тамбовцева А.А.*\n",
    "\n",
    "## Домашнее задание 5\n",
    "\n",
    "В этом домашнем задании необходимо выгрузить информацию о фильме «Господин оформитель» с сайта КИНО-ТЕАТР.РУ. Сайт, конечно, уступает Кинопоиску и подобным ресурсам, но, поскольку он некоммерческий, исходный код доступен, проблемы с доступом возникают очень редко.\n",
    "\n",
    "Ссылка на главную страницу фильма сохранена с переменной `main`, ссылка на страницу с актерами – в переменной `titr`. \n",
    "\n",
    "Если вдруг возникают проблемы с доступом (при парсинге выдается не исходный код страницы, а пустая страница с сообщением о попытках автоматического подключения к странице), можете воспользоваться запасными ссылками `main` и `titr`, это ссылки на копии страниц в репозитории Github для нашего курса, они точно открываются."
   ]
  },
  {
   "cell_type": "code",
   "execution_count": null,
   "metadata": {},
   "outputs": [],
   "source": [
    "main = \"https://www.kino-teatr.ru/kino/movie/sov/1487/annot/\"\n",
    "titr = \"https://www.kino-teatr.ru/kino/movie/sov/1487/titr/\""
   ]
  },
  {
   "cell_type": "code",
   "execution_count": null,
   "metadata": {},
   "outputs": [],
   "source": [
    "# запасные ссылки\n",
    "main = \"https://raw.githubusercontent.com/allatambov/PyAll23/main/annot2.html\"\n",
    "titr = \"https://raw.githubusercontent.com/allatambov/PyAll23/main/titr2.html\""
   ]
  },
  {
   "cell_type": "markdown",
   "metadata": {},
   "source": [
    "### Задача 1 (2 балла)\n",
    "\n",
    "Используя возможности библиотек `requests` и `BeautifulSoup`, извлеките из кода главной страницы `main` название фильма и его рейтинг. Сохраните их в переменные `film_name` (тип `string`) и `film_rating` (тип `float`) соответственно."
   ]
  },
  {
   "cell_type": "code",
   "execution_count": null,
   "metadata": {},
   "outputs": [],
   "source": [
    "### YOUR CODE HERE ###"
   ]
  },
  {
   "cell_type": "markdown",
   "metadata": {},
   "source": [
    "### Задача 2 (3 балла)\n",
    "\n",
    "Используя возможности библиотек `requests` и `BeautifulSoup`, извлеките из кода главной страницы `main` места съемок и сохраните их в список. Список должен быть таким: \n",
    "\n",
    "    ['Санкт-Петербург',\n",
    "     'Оранжерея Таврического сада',\n",
    "     'Дворец Великого князя Владимира Александровича',\n",
    "     'Особняк Гильзе фан дер Пальса',\n",
    "     'Михайловский театр',\n",
    "     'Улица Репина',\n",
    "     'Кирицы',\n",
    "     'Особняк фон Дервиза']"
   ]
  },
  {
   "cell_type": "code",
   "execution_count": null,
   "metadata": {},
   "outputs": [],
   "source": [
    "### YOUR CODE HERE ###"
   ]
  },
  {
   "cell_type": "markdown",
   "metadata": {},
   "source": [
    "### Задача 3 (2 балла)\n",
    "\n",
    "Используя исходный код страницы `titr`, сохраните в список `act_info` информацию об актерах (в «сыром» виде, в виде объектов `BeautifulSoup`), которая хранится на карточке актера.\n",
    "\n",
    "Для определенности – вот пример элемента такого списка:\n",
    "\n",
    "```\n",
    "<div class=\"actor_details\">\n",
    " <div class=\"actor_film_descript\" id=\"role_149\">\n",
    " <div class=\"film_name\"><a href=\"/kino/acter/m/sov/35/bio/\" itemprop=\"url\" title=\"Виктор Авилов\"><strong itemprop=\"name\">Виктор Авилов</strong></a></div>\n",
    " <div class=\"film_role\">Платон Андреевич — <span class=\"film_main_role\">главная роль</span></div>\n",
    " <div class=\"film_rating\"><span id=\"role_rating_149\"></span></div>\n",
    " </div>\n",
    " <div class=\"actor_film_screens\"><a href=\"/kino/movie/sov/1487/foto/a35/197805/\" title=\"Виктор Авилов\"><img alt=\"Виктор Авилов\" class=\"actor_film_img\" src=\"/acter/photo/5/3/35/pv_197805.jpg\" title=\"Виктор Авилов\"/></a></div>\n",
    " </div>\n",
    "```"
   ]
  },
  {
   "cell_type": "code",
   "execution_count": null,
   "metadata": {},
   "outputs": [],
   "source": [
    "### YOUR CODE HERE ###"
   ]
  },
  {
   "cell_type": "markdown",
   "metadata": {},
   "source": [
    "### Задача 4 (2 балла)\n",
    "\n",
    "Напишите функцию `get_personal()`, которая принимает на вход элемент списка `act_info` и возвращает **список** из следующих характеристик:\n",
    "\n",
    "* id актера (`role_149` в примере выше);\n",
    "* ФИО актера (`Виктор Авилов` в примере выше);\n",
    "* роль (`Платон Андреевич — главная роль` в примере выше, пустая строка, если ее нет).\n",
    "\n",
    "Потестируйте функцию на каком-нибудь элементе списка `act_info`."
   ]
  },
  {
   "cell_type": "code",
   "execution_count": null,
   "metadata": {},
   "outputs": [],
   "source": [
    "### YOUR CODE HERE ###"
   ]
  },
  {
   "cell_type": "markdown",
   "metadata": {},
   "source": [
    "### Задача 5 (1 балл)\n",
    "\n",
    "Примените эту функцию ко всем элементам списка `act_info` и создайте новый список списков `L` такого вида:\n",
    "\n",
    "```\n",
    "[['role_149', 'Виктор Авилов', \n",
    "'Платон Андреевич — главная роль'],\n",
    "['role_27252', 'Анна Демьяненко', \n",
    "'Анна Белецкая-Мария — главная роль'], \n",
    "...]\n",
    "```\n",
    "\n",
    "Преобразуйте полученный список в датафрейм, присвойте столбцам названия `id`, `name`, `role`. "
   ]
  },
  {
   "cell_type": "code",
   "execution_count": null,
   "metadata": {},
   "outputs": [],
   "source": [
    "### YOUR CODE HERE ###"
   ]
  }
 ],
 "metadata": {
  "kernelspec": {
   "display_name": "Python 3",
   "language": "python",
   "name": "python3"
  },
  "language_info": {
   "codemirror_mode": {
    "name": "ipython",
    "version": 3
   },
   "file_extension": ".py",
   "mimetype": "text/x-python",
   "name": "python",
   "nbconvert_exporter": "python",
   "pygments_lexer": "ipython3",
   "version": "3.7.4"
  }
 },
 "nbformat": 4,
 "nbformat_minor": 2
}
