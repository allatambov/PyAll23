{
 "cells": [
  {
   "cell_type": "markdown",
   "metadata": {},
   "source": [
    "# Программирование для всех <br>(основы работы с Python)\n",
    "\n",
    "*Алла Тамбовцева, НИУ ВШЭ*"
   ]
  },
  {
   "cell_type": "markdown",
   "metadata": {},
   "source": [
    "## Методы `.split()` и `.join()`"
   ]
  },
  {
   "cell_type": "markdown",
   "metadata": {},
   "source": [
    "Одни из самых распространённых методов на строках – методы `split()` и `.join()`. Первый нужен для того, чтобы разбивать строку на части, а второй – чтобы, напротив, склеивать перечень строк в одну большую строку. Допустим, у нас есть строка с текстом и мы хотим разбить его на слова. Применим метод `.split()`:"
   ]
  },
  {
   "cell_type": "code",
   "execution_count": 1,
   "metadata": {},
   "outputs": [
    {
     "data": {
      "text/plain": [
       "['1', '2', '3']"
      ]
     },
     "execution_count": 1,
     "metadata": {},
     "output_type": "execute_result"
    }
   ],
   "source": [
    "s = \"1 2 3\"\n",
    "s.split()"
   ]
  },
  {
   "cell_type": "markdown",
   "metadata": {},
   "source": [
    "По умолчанию `.split()` разбивает строку по пробелу и возвращает список, состоящий из частей строки. Но в качестве разделителя можно указать любой набор символов:"
   ]
  },
  {
   "cell_type": "code",
   "execution_count": 2,
   "metadata": {},
   "outputs": [
    {
     "data": {
      "text/plain": [
       "['01', '02', '2023']"
      ]
     },
     "execution_count": 2,
     "metadata": {},
     "output_type": "execute_result"
    }
   ],
   "source": [
    "date = \"01-02-2023\"\n",
    "date.split(\"-\")"
   ]
  },
  {
   "cell_type": "markdown",
   "metadata": {},
   "source": [
    "Метод `.split()` удобно сочетать с функцией `input()`, если мы знаем, что пользователь должен вводить с клавиатуры несколько элементов:"
   ]
  },
  {
   "cell_type": "code",
   "execution_count": 3,
   "metadata": {},
   "outputs": [
    {
     "name": "stdout",
     "output_type": "stream",
     "text": [
      "20 30\n"
     ]
    },
    {
     "data": {
      "text/plain": [
       "['20', '30']"
      ]
     },
     "execution_count": 3,
     "metadata": {},
     "output_type": "execute_result"
    }
   ],
   "source": [
    "inp = input().split()\n",
    "inp"
   ]
  },
  {
   "cell_type": "markdown",
   "metadata": {},
   "source": [
    "Однако стоит учитывать, что метод `.split()` всегда возвращает список строк. Если мы захотим работать с результатами ввода как с числами, их необходимо будет преобразовать в соответствующий тип.  Проще всего это сделать через цикл или функцию `map()`, но её мы обсудим позже, поэтому пока мы можем просто извлечь из списка элементы по индексу и преобразовать их в числа по-отдельности. Вычислим сумму чисел, которые ввел пользователь (нумерация элементов в Python начинается с нуля, поэтому первый элемент – это нулевой, а второй – первый):"
   ]
  },
  {
   "cell_type": "code",
   "execution_count": 4,
   "metadata": {},
   "outputs": [
    {
     "data": {
      "text/plain": [
       "50"
      ]
     },
     "execution_count": 4,
     "metadata": {},
     "output_type": "execute_result"
    }
   ],
   "source": [
    "int(inp[0]) + int(inp[1])"
   ]
  },
  {
   "cell_type": "markdown",
   "metadata": {},
   "source": [
    "Метод `.join()` производит обратную операцию – конкатенацию строк. Он склеивает перечень строк в одну строку. Метод применяется к строке – разделителю, который мы будем использовать при склеивании, а в качестве аргумента указывается перечень строк (список или кортеж)."
   ]
  },
  {
   "cell_type": "code",
   "execution_count": 5,
   "metadata": {},
   "outputs": [
    {
     "name": "stdout",
     "output_type": "stream",
     "text": [
      "A-B-C\n"
     ]
    }
   ],
   "source": [
    "print(\"-\".join([\"A\", \"B\", \"C\"]))"
   ]
  },
  {
   "cell_type": "code",
   "execution_count": 6,
   "metadata": {},
   "outputs": [
    {
     "name": "stdout",
     "output_type": "stream",
     "text": [
      "A\n",
      "B\n",
      "C\n"
     ]
    }
   ],
   "source": [
    "print(\"\\n\".join([\"A\", \"B\", \"C\"]))  # \\n – переход на новую с"
   ]
  },
  {
   "cell_type": "code",
   "execution_count": 7,
   "metadata": {},
   "outputs": [
    {
     "name": "stdout",
     "output_type": "stream",
     "text": [
      "A\tB\tC\n"
     ]
    }
   ],
   "source": [
    "print(\"\\t\".join([\"A\", \"B\", \"C\"]))  # \\t – табуляция"
   ]
  }
 ],
 "metadata": {
  "kernelspec": {
   "display_name": "Python 3",
   "language": "python",
   "name": "python3"
  },
  "language_info": {
   "codemirror_mode": {
    "name": "ipython",
    "version": 3
   },
   "file_extension": ".py",
   "mimetype": "text/x-python",
   "name": "python",
   "nbconvert_exporter": "python",
   "pygments_lexer": "ipython3",
   "version": "3.7.4"
  }
 },
 "nbformat": 4,
 "nbformat_minor": 2
}
