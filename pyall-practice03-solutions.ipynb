{
 "cells": [
  {
   "cell_type": "markdown",
   "metadata": {},
   "source": [
    "# Программирование для всех <br>(основы работы с Python)\n",
    "\n",
    "*Разработчик формата сдачи заданий и фабрики автоматических тестов: Щуров И.В.<br> \n",
    "Автор задач: Тамбовцева А.А.*\n",
    "\n",
    "## Практикум 3: разнообразие структур данных"
   ]
  },
  {
   "cell_type": "markdown",
   "metadata": {},
   "source": [
    "### Активировать тесты\n",
    "\n",
    "Запустите следующую ячейку, чтобы иметь возможность запускать тесты."
   ]
  },
  {
   "cell_type": "code",
   "execution_count": 1,
   "metadata": {},
   "outputs": [],
   "source": [
    "# Фабрика тестов для проверки программ, принимающих данные через input()\n",
    "\n",
    "from collections import deque\n",
    "\n",
    "class Tester(object):\n",
    "    def __init__(self, inp):\n",
    "        self.outputs = []\n",
    "        self.inputs = deque(inp)\n",
    "    def print(self, *args, sep = \" \", end = \"\\n\"):\n",
    "        text = sep.join(map(str, args)) + end\n",
    "        newlines = text.splitlines(keepends=True)\n",
    "        if self.outputs and self.outputs[-1] and self.outputs[-1][-1] != \"\\n\" and newlines:\n",
    "            self.outputs[-1] += newlines[0]\n",
    "            self.outputs.extend(newlines[1:])\n",
    "        else:\n",
    "            self.outputs.extend(newlines)\n",
    "            \n",
    "    def input(self, *args):\n",
    "        assert self.inputs, \"Вы пытаетесь считать больше элементов, чем предусмотрено условием\"\n",
    "        return self.inputs.popleft()\n",
    "    def __enter__(self):\n",
    "        global print\n",
    "        global input\n",
    "        print = self.print\n",
    "        input = self.input\n",
    "        return self.outputs\n",
    "    def __exit__(self, *args):\n",
    "        global print\n",
    "        global input\n",
    "        del print\n",
    "        del input"
   ]
  },
  {
   "cell_type": "markdown",
   "metadata": {},
   "source": [
    "### Задача 1 \n",
    "\n",
    "В списке `problem01` хранятся баллы за первую проверочную по курсу, в списке `problem02` – за вторую проверочную по курсу. \n",
    "\n",
    "* Создайте список `results` с суммой баллов за две проверочные для каждого студента.  \n",
    "* Создайте массив `Results` с суммой баллов за две проверочные для каждого студента.  "
   ]
  },
  {
   "cell_type": "code",
   "execution_count": 2,
   "metadata": {},
   "outputs": [],
   "source": [
    "problem01 = [2, 3, 1, 0, 2, 3, 1, 2, 3, 2]\n",
    "problem02 = [0, 0, 1, 0, 2, 0, 1, 3, 3, 2]"
   ]
  },
  {
   "cell_type": "code",
   "execution_count": 3,
   "metadata": {},
   "outputs": [
    {
     "name": "stdout",
     "output_type": "stream",
     "text": [
      "[2, 3, 2, 0, 4, 3, 2, 5, 6, 4]\n"
     ]
    }
   ],
   "source": [
    "# список – изящное решение через zip()\n",
    "results = []\n",
    "for p1, p2 in zip(problem01, problem02):\n",
    "    results.append(p1 + p2)\n",
    "print(results)"
   ]
  },
  {
   "cell_type": "code",
   "execution_count": 4,
   "metadata": {},
   "outputs": [
    {
     "name": "stdout",
     "output_type": "stream",
     "text": [
      "[2 3 2 0 4 3 2 5 6 4]\n"
     ]
    }
   ],
   "source": [
    "# массив\n",
    "\n",
    "import numpy as np\n",
    "Results = np.array(problem01) + np.array(problem02)\n",
    "print(Results)"
   ]
  },
  {
   "cell_type": "markdown",
   "metadata": {},
   "source": [
    "### Задача 2 \n",
    "\n",
    "Реализуйте программу, которая фильтрует героев на основе их места проживания:\n",
    "\n",
    "* В переменную `heroes` считывается список, где хранятся имена героев через запятую без пробела (строки).\n",
    "* В переменную `places` считывается список, где хранятся места проживания героев через запятую без пробела (строки). Каждый год соответствует студенту из списка `heroes`.\n",
    "* Гарантируется, что будет введена информация минимум для одного героя.\n",
    "* В переменную `place` считывается строка — место проживания, который нас интересует.\n",
    "* Программа выводит имена героев, которые проживают в месте, указанном в `place`, каждое на новой строке.\n",
    "* Если таких героев нет, то программа ничего не выводит.\n",
    "\n",
    "**Примеры работы программы:**\n",
    "\n",
    "Ввод:\n",
    "\n",
    "    Волк, Красная Шапочка, Бабушка, Мама\n",
    "    Лес, Москва, Париж, Москва\n",
    "    Москва\n",
    "\n",
    "Результат:\n",
    "\n",
    "    Красная Шапочка\n",
    "    Мама\n",
    "    \n",
    "Ввод:\n",
    "\n",
    "    Волк, Красная Шапочка, Бабушка, Айболит\n",
    "    Лес, Москва, Париж, Лес\n",
    "    Лес\n",
    "\n",
    "Результат:\n",
    "\n",
    "    Волк\n",
    "    Айболит\n",
    "    \n",
    "Ввод:\n",
    "\n",
    "    Волк, Красная Шапочка, Бабушка, Айболит\n",
    "    Лес, Москва, Париж, Лес\n",
    "    Лондон\n",
    "\n",
    "Результат:\n",
    "\n",
    "    [ничего не выводится]"
   ]
  },
  {
   "cell_type": "code",
   "execution_count": 5,
   "metadata": {},
   "outputs": [
    {
     "name": "stdout",
     "output_type": "stream",
     "text": [
      "Волк, Красная Шапочка, Бабушка, Мама\n",
      "Лес, Москва, Париж, Москва\n",
      "Москва\n",
      "Красная Шапочка\n",
      "Мама\n"
     ]
    }
   ],
   "source": [
    "def tale():\n",
    "    \n",
    "    heroes = input().split(\", \")\n",
    "    places = input().split(\", \")\n",
    "    place = input()\n",
    "    for h, p in zip(heroes, places):\n",
    "        if p == place:\n",
    "            print(h)\n",
    "    \n",
    "tale()"
   ]
  },
  {
   "cell_type": "code",
   "execution_count": 6,
   "metadata": {},
   "outputs": [],
   "source": [
    "test_data = [\n",
    "    (\"Волк, Красная Шапочка, Бабушка, Айболит;Лес, Москва, Париж, Лес;Лес\", \n",
    "     [\"Волк\", \"Айболит\"]),\n",
    "    (\"Волк, Красная Шапочка, Бабушка, Мама;Лес, Москва, Париж, Москва;Москва\", \n",
    "     [\"Красная Шапочка\", \"Мама\"]),\n",
    "    (\"Волк, Красная Шапочка, Бабушка, Айболит;Лес, Москва, Париж, Лес;Лондон\", \n",
    "     [])\n",
    "]\n",
    "\n",
    "for inp, out in test_data:\n",
    "    with Tester(inp.split(\";\")) as t:\n",
    "        tale()\n",
    "        line_t = \"\".join(t)\n",
    "        t = line_t.splitlines()\n",
    "        assert len(t) == len(out), \"Неверный ответ\"\n",
    "        for l_test, l_out in zip(t, out):\n",
    "            assert len(l_test.split()) == len(l_out.split()), \"Неверный ответ\"\n",
    "            for el_test, el_out in zip(l_test.split(), l_out.split()):\n",
    "                assert el_test == el_out, \"Неверный ответ\" "
   ]
  },
  {
   "cell_type": "markdown",
   "metadata": {},
   "source": [
    "### Задача 3\n",
    "\n",
    "Дан словарь с названиями разных рептилий:"
   ]
  },
  {
   "cell_type": "code",
   "execution_count": 8,
   "metadata": {},
   "outputs": [],
   "source": [
    "rept = {\"python\" : \" питон\", \n",
    "        \"anaconda\" : \"анаконда\", \n",
    "        \"tortoize\" : \" черепаха\" }"
   ]
  },
  {
   "cell_type": "markdown",
   "metadata": {},
   "source": [
    "* Добавьте в словарь пару \"snake\" – \" змея\".\n",
    "* Исправьте ключ \"tortoize\" на правильный \"tortoise\".\n",
    "* Для всех слов в словаре выведите на экран сообщения вида `Питон по-английски будет python.`"
   ]
  },
  {
   "cell_type": "code",
   "execution_count": 9,
   "metadata": {},
   "outputs": [
    {
     "name": "stdout",
     "output_type": "stream",
     "text": [
      "{'python': ' питон', 'anaconda': 'анаконда', 'tortoize': ' черепаха', 'snake': 'змея'}\n"
     ]
    }
   ],
   "source": [
    "# добавляем запись и проверяем\n",
    "\n",
    "rept.update({\"snake\" : \"змея\"})\n",
    "print(rept)"
   ]
  },
  {
   "cell_type": "code",
   "execution_count": 10,
   "metadata": {},
   "outputs": [
    {
     "name": "stdout",
     "output_type": "stream",
     "text": [
      "{'python': ' питон', 'anaconda': 'анаконда', 'snake': 'змея', 'tortoise': ' черепаха'}\n"
     ]
    }
   ],
   "source": [
    "# исправляем ключ – удаляем запись с неправильным\n",
    "# само значение сохраняем и перезаписываем с другим ключом\n",
    "\n",
    "old = rept.pop(\"tortoize\")\n",
    "rept[\"tortoise\"] = old\n",
    "print(rept)"
   ]
  },
  {
   "cell_type": "code",
   "execution_count": 11,
   "metadata": {},
   "outputs": [
    {
     "name": "stdout",
     "output_type": "stream",
     "text": [
      "Питон по-английски будет python.\n",
      "Анаконда по-английски будет anaconda.\n",
      "Змея по-английски будет snake.\n",
      "Черепаха по-английски будет tortoise.\n"
     ]
    }
   ],
   "source": [
    "# сообщения\n",
    "# метод .strip() убирает лишние пробелы в конце/в начале строки\n",
    "# метод .capitalize() делает первую букву заглавной\n",
    "\n",
    "for en, ru in rept.items():\n",
    "    print(f\"{ru.strip().capitalize()} по-английски будет {en}.\")"
   ]
  },
  {
   "cell_type": "markdown",
   "metadata": {},
   "source": [
    "### Задача 4\n",
    "\n",
    "В списке `cnt` хранятся названия стран, а в списке `fh` – значения индекса Freedom House для этих стран. Создайте словарь, используя в качестве ключей названия стран, а в качестве значений – значения индекса."
   ]
  },
  {
   "cell_type": "code",
   "execution_count": 13,
   "metadata": {},
   "outputs": [],
   "source": [
    "cnt = [\"Andorra\", \"Belarus\", \"Denmark\", \n",
    "       \"Kenya\", \"Jamaica\", \"Romania\"]\n",
    "fh = [1.0, 6.0, 1.0, 4.0, 2.5, 2.0]"
   ]
  },
  {
   "cell_type": "code",
   "execution_count": 14,
   "metadata": {},
   "outputs": [
    {
     "name": "stdout",
     "output_type": "stream",
     "text": [
      "{'Andorra': 1.0, 'Belarus': 6.0, 'Denmark': 1.0, 'Kenya': 4.0, 'Jamaica': 2.5, 'Romania': 2.0}\n"
     ]
    }
   ],
   "source": [
    "# функция zip() – наше всё\n",
    "# из списка с кортежами можно сделать словарь\n",
    "\n",
    "data = dict(zip(cnt, fh))\n",
    "print(data)"
   ]
  },
  {
   "cell_type": "markdown",
   "metadata": {},
   "source": [
    "### Задача 5\n",
    "\n",
    "Дан словарь `grades` с оценками студентов за контрольную работу в 5-балльной шкале. Напишите код, который сделает следующее:\n",
    "\n",
    "* Выведет на экран имя каждого студента и его оценку (каждый студент – с новой строки).\n",
    "* Сохранит имена студентов, получивших отличные оценки, в список `excel`.\n",
    "* Сохранит имена студентов, получивших хорошие оценки, в список `good`.\n",
    "* Сохранит имена студентов, получивших удовлетворительные оценки, в список `satisf`.\n",
    "* Сохранит имена студентов, получивших плохие оценки, в список `bad`."
   ]
  },
  {
   "cell_type": "code",
   "execution_count": 15,
   "metadata": {},
   "outputs": [],
   "source": [
    "grades = {'Anna': 4, 'Bob': 3, 'Claire': 5, 'Dick': 2, 'Elena': 5, \n",
    "         'Fred': 5, 'George': 4, 'Kristina': 3, 'Nick': 2, \n",
    "         'Ursula': 4, 'Viktor': 5}"
   ]
  },
  {
   "cell_type": "code",
   "execution_count": 16,
   "metadata": {},
   "outputs": [
    {
     "name": "stdout",
     "output_type": "stream",
     "text": [
      "Anna 4\n",
      "Bob 3\n",
      "Claire 5\n",
      "Dick 2\n",
      "Elena 5\n",
      "Fred 5\n",
      "George 4\n",
      "Kristina 3\n",
      "Nick 2\n",
      "Ursula 4\n",
      "Viktor 5\n"
     ]
    }
   ],
   "source": [
    "# обсудим в следующий раз, но решение уже здесь\n",
    "\n",
    "excel = []\n",
    "good = []\n",
    "satisf = []\n",
    "bad = []\n",
    "\n",
    "for student, grade in grades.items():\n",
    "    print(student, grade)\n",
    "    if grade == 5:\n",
    "        excel.append(student)\n",
    "    elif grade == 4:\n",
    "        good.append(student)\n",
    "    elif grade == 3:\n",
    "        satisf.append(student)\n",
    "    else:\n",
    "        bad.append(student)"
   ]
  },
  {
   "cell_type": "code",
   "execution_count": 17,
   "metadata": {},
   "outputs": [
    {
     "name": "stdout",
     "output_type": "stream",
     "text": [
      "['Claire', 'Elena', 'Fred', 'Viktor'] ['Anna', 'George', 'Ursula'] ['Bob', 'Kristina'] ['Dick', 'Nick']\n"
     ]
    }
   ],
   "source": [
    "print(excel, good, satisf, bad)"
   ]
  },
  {
   "cell_type": "markdown",
   "metadata": {},
   "source": [
    "### Задача 6\n",
    "\n",
    "Дан список, состоящий из пар чисел:\n",
    "\n",
    "    pairs = [(2, 4), (4, 6), (0, 1), (5, 2), (9, 1), (3, 8)]\n",
    "\n",
    "Создайте словарь `calc`, где ключами являются пары чисел, а значениями – их произведение (произведение тоже должно считаться в Python, не в уме)."
   ]
  },
  {
   "cell_type": "code",
   "execution_count": 18,
   "metadata": {},
   "outputs": [
    {
     "name": "stdout",
     "output_type": "stream",
     "text": [
      "{(2, 4): 8, (4, 6): 24, (0, 1): 0, (5, 2): 10, (9, 1): 9, (3, 8): 24}\n"
     ]
    }
   ],
   "source": [
    "# обсудим в следующий раз, но решение уже здесь\n",
    "\n",
    "pairs = [(2, 4), (4, 6), (0, 1), (5, 2), (9, 1), (3, 8)]\n",
    "\n",
    "calc = {}\n",
    "\n",
    "# вот тут удобнее перебор делать по паре целиком\n",
    "\n",
    "for pair in pairs:\n",
    "    calc[pair] =  pair[0] * pair[1]\n",
    "    \n",
    "print(calc)"
   ]
  },
  {
   "cell_type": "code",
   "execution_count": 20,
   "metadata": {},
   "outputs": [
    {
     "ename": "TypeError",
     "evalue": "unhashable type: 'list'",
     "output_type": "error",
     "traceback": [
      "\u001b[0;31m---------------------------------------------------------------------------\u001b[0m",
      "\u001b[0;31mTypeError\u001b[0m                                 Traceback (most recent call last)",
      "\u001b[0;32m<ipython-input-20-10324f402448>\u001b[0m in \u001b[0;36m<module>\u001b[0;34m\u001b[0m\n\u001b[1;32m      9\u001b[0m \u001b[0;34m\u001b[0m\u001b[0m\n\u001b[1;32m     10\u001b[0m \u001b[0;32mfor\u001b[0m \u001b[0mpair\u001b[0m \u001b[0;32min\u001b[0m \u001b[0mpairs\u001b[0m\u001b[0;34m:\u001b[0m\u001b[0;34m\u001b[0m\u001b[0;34m\u001b[0m\u001b[0m\n\u001b[0;32m---> 11\u001b[0;31m     \u001b[0mcalc\u001b[0m\u001b[0;34m[\u001b[0m\u001b[0mpair\u001b[0m\u001b[0;34m]\u001b[0m \u001b[0;34m=\u001b[0m  \u001b[0mpair\u001b[0m\u001b[0;34m[\u001b[0m\u001b[0;36m0\u001b[0m\u001b[0;34m]\u001b[0m \u001b[0;34m*\u001b[0m \u001b[0mpair\u001b[0m\u001b[0;34m[\u001b[0m\u001b[0;36m1\u001b[0m\u001b[0;34m]\u001b[0m\u001b[0;34m\u001b[0m\u001b[0;34m\u001b[0m\u001b[0m\n\u001b[0m",
      "\u001b[0;31mTypeError\u001b[0m: unhashable type: 'list'"
     ]
    }
   ],
   "source": [
    "# важный момент: в качестве ключей словаря \n",
    "# могут использоваться только неизменяемые типы\n",
    "# в нашем случае кортежи – ок,\n",
    "# а если бы pairs был списком списков, то\n",
    "# ничего бы не получилось\n",
    "\n",
    "pairs = [[2, 4], [4, 6], [0, 1], [5, 2], [9, 1], [3, 8]]\n",
    "calc = {}\n",
    "         \n",
    "for pair in pairs:\n",
    "    calc[pair] =  pair[0] * pair[1]"
   ]
  }
 ],
 "metadata": {
  "kernelspec": {
   "display_name": "Python 3",
   "language": "python",
   "name": "python3"
  },
  "language_info": {
   "codemirror_mode": {
    "name": "ipython",
    "version": 3
   },
   "file_extension": ".py",
   "mimetype": "text/x-python",
   "name": "python",
   "nbconvert_exporter": "python",
   "pygments_lexer": "ipython3",
   "version": "3.7.4"
  }
 },
 "nbformat": 4,
 "nbformat_minor": 2
}
